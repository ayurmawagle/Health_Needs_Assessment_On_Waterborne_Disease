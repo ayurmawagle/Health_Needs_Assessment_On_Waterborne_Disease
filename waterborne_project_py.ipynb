{
  "nbformat": 4,
  "nbformat_minor": 0,
  "metadata": {
    "colab": {
      "provenance": []
    },
    "kernelspec": {
      "name": "python3",
      "display_name": "Python 3"
    },
    "language_info": {
      "name": "python"
    }
  },
  "cells": [
    {
      "cell_type": "markdown",
      "source": [
        "## Importing necessary libraries"
      ],
      "metadata": {
        "id": "HD8OCdGgycyn"
      }
    },
    {
      "cell_type": "code",
      "execution_count": null,
      "metadata": {
        "id": "ZQk8XxMVpmXA"
      },
      "outputs": [],
      "source": [
        "import pandas as pd\n",
        "import numpy as np\n",
        "import matplotlib.pyplot as plt\n",
        "import seaborn as sns\n",
        "from scipy import stats\n",
        "%matplotlib inline"
      ]
    },
    {
      "cell_type": "code",
      "source": [
        "from google.colab import drive\n",
        "drive.mount('/content/drive')"
      ],
      "metadata": {
        "colab": {
          "base_uri": "https://localhost:8080/"
        },
        "id": "HXJIIrOWuBst",
        "outputId": "ff0aca12-b8a4-46e3-8b40-d275f5842b03"
      },
      "execution_count": null,
      "outputs": [
        {
          "output_type": "stream",
          "name": "stdout",
          "text": [
            "Drive already mounted at /content/drive; to attempt to forcibly remount, call drive.mount(\"/content/drive\", force_remount=True).\n"
          ]
        }
      ]
    },
    {
      "cell_type": "markdown",
      "source": [
        "## Dataset Description"
      ],
      "metadata": {
        "id": "POhMToWkMmN6"
      }
    },
    {
      "cell_type": "code",
      "source": [
        "import pandas as pd\n",
        "\n",
        "file_path = \"/content/drive/My Drive/waterborne_200_survery_data.csv\"\n",
        "df = pd.read_csv(file_path)\n",
        "\n",
        "# Display the first few rows\n",
        "df.head()\n"
      ],
      "metadata": {
        "colab": {
          "base_uri": "https://localhost:8080/",
          "height": 278
        },
        "id": "gulHKSnKuSqB",
        "outputId": "6e9cf789-04f9-4b54-e49f-4100c42b7c52"
      },
      "execution_count": null,
      "outputs": [
        {
          "output_type": "execute_result",
          "data": {
            "text/plain": [
              "   Unnamed: 0  household_size  children_under_5  elderly_60+  \\\n",
              "0           0               5                 0            0   \n",
              "1           1               6                 0            1   \n",
              "2           2               4                 1            1   \n",
              "3           3               6                 0            1   \n",
              "4           4               6                 1            1   \n",
              "\n",
              "  primary_occupation education_level     storage_type water_treatment_method  \\\n",
              "0        Agriculture    No Education  Metal Container          No Filtration   \n",
              "1           Business          Higher      Open Bucket           Chlorination   \n",
              "2           Business       Secondary      Closed Drum          No Filtration   \n",
              "3        Agriculture         Primary  Metal Container                  SODIS   \n",
              "4           Govt Job          Higher      Closed Drum           Chlorination   \n",
              "\n",
              "   diarrhoea_cases_pre  diarrhoea_cases_post  typhoid_cases_pre  \\\n",
              "0                    0                     5                  0   \n",
              "1                    0                     0                  0   \n",
              "2                    0                     2                  0   \n",
              "3                    1                     0                  1   \n",
              "4                    0                     0                  0   \n",
              "\n",
              "   typhoid_cases_post  cholera_cases_pre  cholera_cases_post sought_treatment  \\\n",
              "0                   1                  0                   0              Yes   \n",
              "1                   0                  0                   0              Yes   \n",
              "2                   1                  1                   0              Yes   \n",
              "3                   0                  0                   0              Yes   \n",
              "4                   1                  1                   0              Yes   \n",
              "\n",
              "  hospitalized believes_water_crisis_caused_disease  \\\n",
              "0           No                                   No   \n",
              "1           No                                  Yes   \n",
              "2           No                                  Yes   \n",
              "3          Yes                                  Yes   \n",
              "4          Yes                                  Yes   \n",
              "\n",
              "  interested_in_water_filters  \n",
              "0                         Yes  \n",
              "1                         Yes  \n",
              "2                          No  \n",
              "3                         Yes  \n",
              "4                         Yes  "
            ],
            "text/html": [
              "\n",
              "  <div id=\"df-f66ef8f3-a3d3-429e-867a-4d3cb403b76a\" class=\"colab-df-container\">\n",
              "    <div>\n",
              "<style scoped>\n",
              "    .dataframe tbody tr th:only-of-type {\n",
              "        vertical-align: middle;\n",
              "    }\n",
              "\n",
              "    .dataframe tbody tr th {\n",
              "        vertical-align: top;\n",
              "    }\n",
              "\n",
              "    .dataframe thead th {\n",
              "        text-align: right;\n",
              "    }\n",
              "</style>\n",
              "<table border=\"1\" class=\"dataframe\">\n",
              "  <thead>\n",
              "    <tr style=\"text-align: right;\">\n",
              "      <th></th>\n",
              "      <th>Unnamed: 0</th>\n",
              "      <th>household_size</th>\n",
              "      <th>children_under_5</th>\n",
              "      <th>elderly_60+</th>\n",
              "      <th>primary_occupation</th>\n",
              "      <th>education_level</th>\n",
              "      <th>storage_type</th>\n",
              "      <th>water_treatment_method</th>\n",
              "      <th>diarrhoea_cases_pre</th>\n",
              "      <th>diarrhoea_cases_post</th>\n",
              "      <th>typhoid_cases_pre</th>\n",
              "      <th>typhoid_cases_post</th>\n",
              "      <th>cholera_cases_pre</th>\n",
              "      <th>cholera_cases_post</th>\n",
              "      <th>sought_treatment</th>\n",
              "      <th>hospitalized</th>\n",
              "      <th>believes_water_crisis_caused_disease</th>\n",
              "      <th>interested_in_water_filters</th>\n",
              "    </tr>\n",
              "  </thead>\n",
              "  <tbody>\n",
              "    <tr>\n",
              "      <th>0</th>\n",
              "      <td>0</td>\n",
              "      <td>5</td>\n",
              "      <td>0</td>\n",
              "      <td>0</td>\n",
              "      <td>Agriculture</td>\n",
              "      <td>No Education</td>\n",
              "      <td>Metal Container</td>\n",
              "      <td>No Filtration</td>\n",
              "      <td>0</td>\n",
              "      <td>5</td>\n",
              "      <td>0</td>\n",
              "      <td>1</td>\n",
              "      <td>0</td>\n",
              "      <td>0</td>\n",
              "      <td>Yes</td>\n",
              "      <td>No</td>\n",
              "      <td>No</td>\n",
              "      <td>Yes</td>\n",
              "    </tr>\n",
              "    <tr>\n",
              "      <th>1</th>\n",
              "      <td>1</td>\n",
              "      <td>6</td>\n",
              "      <td>0</td>\n",
              "      <td>1</td>\n",
              "      <td>Business</td>\n",
              "      <td>Higher</td>\n",
              "      <td>Open Bucket</td>\n",
              "      <td>Chlorination</td>\n",
              "      <td>0</td>\n",
              "      <td>0</td>\n",
              "      <td>0</td>\n",
              "      <td>0</td>\n",
              "      <td>0</td>\n",
              "      <td>0</td>\n",
              "      <td>Yes</td>\n",
              "      <td>No</td>\n",
              "      <td>Yes</td>\n",
              "      <td>Yes</td>\n",
              "    </tr>\n",
              "    <tr>\n",
              "      <th>2</th>\n",
              "      <td>2</td>\n",
              "      <td>4</td>\n",
              "      <td>1</td>\n",
              "      <td>1</td>\n",
              "      <td>Business</td>\n",
              "      <td>Secondary</td>\n",
              "      <td>Closed Drum</td>\n",
              "      <td>No Filtration</td>\n",
              "      <td>0</td>\n",
              "      <td>2</td>\n",
              "      <td>0</td>\n",
              "      <td>1</td>\n",
              "      <td>1</td>\n",
              "      <td>0</td>\n",
              "      <td>Yes</td>\n",
              "      <td>No</td>\n",
              "      <td>Yes</td>\n",
              "      <td>No</td>\n",
              "    </tr>\n",
              "    <tr>\n",
              "      <th>3</th>\n",
              "      <td>3</td>\n",
              "      <td>6</td>\n",
              "      <td>0</td>\n",
              "      <td>1</td>\n",
              "      <td>Agriculture</td>\n",
              "      <td>Primary</td>\n",
              "      <td>Metal Container</td>\n",
              "      <td>SODIS</td>\n",
              "      <td>1</td>\n",
              "      <td>0</td>\n",
              "      <td>1</td>\n",
              "      <td>0</td>\n",
              "      <td>0</td>\n",
              "      <td>0</td>\n",
              "      <td>Yes</td>\n",
              "      <td>Yes</td>\n",
              "      <td>Yes</td>\n",
              "      <td>Yes</td>\n",
              "    </tr>\n",
              "    <tr>\n",
              "      <th>4</th>\n",
              "      <td>4</td>\n",
              "      <td>6</td>\n",
              "      <td>1</td>\n",
              "      <td>1</td>\n",
              "      <td>Govt Job</td>\n",
              "      <td>Higher</td>\n",
              "      <td>Closed Drum</td>\n",
              "      <td>Chlorination</td>\n",
              "      <td>0</td>\n",
              "      <td>0</td>\n",
              "      <td>0</td>\n",
              "      <td>1</td>\n",
              "      <td>1</td>\n",
              "      <td>0</td>\n",
              "      <td>Yes</td>\n",
              "      <td>Yes</td>\n",
              "      <td>Yes</td>\n",
              "      <td>Yes</td>\n",
              "    </tr>\n",
              "  </tbody>\n",
              "</table>\n",
              "</div>\n",
              "    <div class=\"colab-df-buttons\">\n",
              "\n",
              "  <div class=\"colab-df-container\">\n",
              "    <button class=\"colab-df-convert\" onclick=\"convertToInteractive('df-f66ef8f3-a3d3-429e-867a-4d3cb403b76a')\"\n",
              "            title=\"Convert this dataframe to an interactive table.\"\n",
              "            style=\"display:none;\">\n",
              "\n",
              "  <svg xmlns=\"http://www.w3.org/2000/svg\" height=\"24px\" viewBox=\"0 -960 960 960\">\n",
              "    <path d=\"M120-120v-720h720v720H120Zm60-500h600v-160H180v160Zm220 220h160v-160H400v160Zm0 220h160v-160H400v160ZM180-400h160v-160H180v160Zm440 0h160v-160H620v160ZM180-180h160v-160H180v160Zm440 0h160v-160H620v160Z\"/>\n",
              "  </svg>\n",
              "    </button>\n",
              "\n",
              "  <style>\n",
              "    .colab-df-container {\n",
              "      display:flex;\n",
              "      gap: 12px;\n",
              "    }\n",
              "\n",
              "    .colab-df-convert {\n",
              "      background-color: #E8F0FE;\n",
              "      border: none;\n",
              "      border-radius: 50%;\n",
              "      cursor: pointer;\n",
              "      display: none;\n",
              "      fill: #1967D2;\n",
              "      height: 32px;\n",
              "      padding: 0 0 0 0;\n",
              "      width: 32px;\n",
              "    }\n",
              "\n",
              "    .colab-df-convert:hover {\n",
              "      background-color: #E2EBFA;\n",
              "      box-shadow: 0px 1px 2px rgba(60, 64, 67, 0.3), 0px 1px 3px 1px rgba(60, 64, 67, 0.15);\n",
              "      fill: #174EA6;\n",
              "    }\n",
              "\n",
              "    .colab-df-buttons div {\n",
              "      margin-bottom: 4px;\n",
              "    }\n",
              "\n",
              "    [theme=dark] .colab-df-convert {\n",
              "      background-color: #3B4455;\n",
              "      fill: #D2E3FC;\n",
              "    }\n",
              "\n",
              "    [theme=dark] .colab-df-convert:hover {\n",
              "      background-color: #434B5C;\n",
              "      box-shadow: 0px 1px 3px 1px rgba(0, 0, 0, 0.15);\n",
              "      filter: drop-shadow(0px 1px 2px rgba(0, 0, 0, 0.3));\n",
              "      fill: #FFFFFF;\n",
              "    }\n",
              "  </style>\n",
              "\n",
              "    <script>\n",
              "      const buttonEl =\n",
              "        document.querySelector('#df-f66ef8f3-a3d3-429e-867a-4d3cb403b76a button.colab-df-convert');\n",
              "      buttonEl.style.display =\n",
              "        google.colab.kernel.accessAllowed ? 'block' : 'none';\n",
              "\n",
              "      async function convertToInteractive(key) {\n",
              "        const element = document.querySelector('#df-f66ef8f3-a3d3-429e-867a-4d3cb403b76a');\n",
              "        const dataTable =\n",
              "          await google.colab.kernel.invokeFunction('convertToInteractive',\n",
              "                                                    [key], {});\n",
              "        if (!dataTable) return;\n",
              "\n",
              "        const docLinkHtml = 'Like what you see? Visit the ' +\n",
              "          '<a target=\"_blank\" href=https://colab.research.google.com/notebooks/data_table.ipynb>data table notebook</a>'\n",
              "          + ' to learn more about interactive tables.';\n",
              "        element.innerHTML = '';\n",
              "        dataTable['output_type'] = 'display_data';\n",
              "        await google.colab.output.renderOutput(dataTable, element);\n",
              "        const docLink = document.createElement('div');\n",
              "        docLink.innerHTML = docLinkHtml;\n",
              "        element.appendChild(docLink);\n",
              "      }\n",
              "    </script>\n",
              "  </div>\n",
              "\n",
              "\n",
              "<div id=\"df-125c69c2-8d10-40ed-a558-55346b7aac42\">\n",
              "  <button class=\"colab-df-quickchart\" onclick=\"quickchart('df-125c69c2-8d10-40ed-a558-55346b7aac42')\"\n",
              "            title=\"Suggest charts\"\n",
              "            style=\"display:none;\">\n",
              "\n",
              "<svg xmlns=\"http://www.w3.org/2000/svg\" height=\"24px\"viewBox=\"0 0 24 24\"\n",
              "     width=\"24px\">\n",
              "    <g>\n",
              "        <path d=\"M19 3H5c-1.1 0-2 .9-2 2v14c0 1.1.9 2 2 2h14c1.1 0 2-.9 2-2V5c0-1.1-.9-2-2-2zM9 17H7v-7h2v7zm4 0h-2V7h2v10zm4 0h-2v-4h2v4z\"/>\n",
              "    </g>\n",
              "</svg>\n",
              "  </button>\n",
              "\n",
              "<style>\n",
              "  .colab-df-quickchart {\n",
              "      --bg-color: #E8F0FE;\n",
              "      --fill-color: #1967D2;\n",
              "      --hover-bg-color: #E2EBFA;\n",
              "      --hover-fill-color: #174EA6;\n",
              "      --disabled-fill-color: #AAA;\n",
              "      --disabled-bg-color: #DDD;\n",
              "  }\n",
              "\n",
              "  [theme=dark] .colab-df-quickchart {\n",
              "      --bg-color: #3B4455;\n",
              "      --fill-color: #D2E3FC;\n",
              "      --hover-bg-color: #434B5C;\n",
              "      --hover-fill-color: #FFFFFF;\n",
              "      --disabled-bg-color: #3B4455;\n",
              "      --disabled-fill-color: #666;\n",
              "  }\n",
              "\n",
              "  .colab-df-quickchart {\n",
              "    background-color: var(--bg-color);\n",
              "    border: none;\n",
              "    border-radius: 50%;\n",
              "    cursor: pointer;\n",
              "    display: none;\n",
              "    fill: var(--fill-color);\n",
              "    height: 32px;\n",
              "    padding: 0;\n",
              "    width: 32px;\n",
              "  }\n",
              "\n",
              "  .colab-df-quickchart:hover {\n",
              "    background-color: var(--hover-bg-color);\n",
              "    box-shadow: 0 1px 2px rgba(60, 64, 67, 0.3), 0 1px 3px 1px rgba(60, 64, 67, 0.15);\n",
              "    fill: var(--button-hover-fill-color);\n",
              "  }\n",
              "\n",
              "  .colab-df-quickchart-complete:disabled,\n",
              "  .colab-df-quickchart-complete:disabled:hover {\n",
              "    background-color: var(--disabled-bg-color);\n",
              "    fill: var(--disabled-fill-color);\n",
              "    box-shadow: none;\n",
              "  }\n",
              "\n",
              "  .colab-df-spinner {\n",
              "    border: 2px solid var(--fill-color);\n",
              "    border-color: transparent;\n",
              "    border-bottom-color: var(--fill-color);\n",
              "    animation:\n",
              "      spin 1s steps(1) infinite;\n",
              "  }\n",
              "\n",
              "  @keyframes spin {\n",
              "    0% {\n",
              "      border-color: transparent;\n",
              "      border-bottom-color: var(--fill-color);\n",
              "      border-left-color: var(--fill-color);\n",
              "    }\n",
              "    20% {\n",
              "      border-color: transparent;\n",
              "      border-left-color: var(--fill-color);\n",
              "      border-top-color: var(--fill-color);\n",
              "    }\n",
              "    30% {\n",
              "      border-color: transparent;\n",
              "      border-left-color: var(--fill-color);\n",
              "      border-top-color: var(--fill-color);\n",
              "      border-right-color: var(--fill-color);\n",
              "    }\n",
              "    40% {\n",
              "      border-color: transparent;\n",
              "      border-right-color: var(--fill-color);\n",
              "      border-top-color: var(--fill-color);\n",
              "    }\n",
              "    60% {\n",
              "      border-color: transparent;\n",
              "      border-right-color: var(--fill-color);\n",
              "    }\n",
              "    80% {\n",
              "      border-color: transparent;\n",
              "      border-right-color: var(--fill-color);\n",
              "      border-bottom-color: var(--fill-color);\n",
              "    }\n",
              "    90% {\n",
              "      border-color: transparent;\n",
              "      border-bottom-color: var(--fill-color);\n",
              "    }\n",
              "  }\n",
              "</style>\n",
              "\n",
              "  <script>\n",
              "    async function quickchart(key) {\n",
              "      const quickchartButtonEl =\n",
              "        document.querySelector('#' + key + ' button');\n",
              "      quickchartButtonEl.disabled = true;  // To prevent multiple clicks.\n",
              "      quickchartButtonEl.classList.add('colab-df-spinner');\n",
              "      try {\n",
              "        const charts = await google.colab.kernel.invokeFunction(\n",
              "            'suggestCharts', [key], {});\n",
              "      } catch (error) {\n",
              "        console.error('Error during call to suggestCharts:', error);\n",
              "      }\n",
              "      quickchartButtonEl.classList.remove('colab-df-spinner');\n",
              "      quickchartButtonEl.classList.add('colab-df-quickchart-complete');\n",
              "    }\n",
              "    (() => {\n",
              "      let quickchartButtonEl =\n",
              "        document.querySelector('#df-125c69c2-8d10-40ed-a558-55346b7aac42 button');\n",
              "      quickchartButtonEl.style.display =\n",
              "        google.colab.kernel.accessAllowed ? 'block' : 'none';\n",
              "    })();\n",
              "  </script>\n",
              "</div>\n",
              "\n",
              "    </div>\n",
              "  </div>\n"
            ],
            "application/vnd.google.colaboratory.intrinsic+json": {
              "type": "dataframe",
              "variable_name": "df",
              "summary": "{\n  \"name\": \"df\",\n  \"rows\": 200,\n  \"fields\": [\n    {\n      \"column\": \"Unnamed: 0\",\n      \"properties\": {\n        \"dtype\": \"number\",\n        \"std\": 57,\n        \"min\": 0,\n        \"max\": 199,\n        \"num_unique_values\": 200,\n        \"samples\": [\n          95,\n          15,\n          30\n        ],\n        \"semantic_type\": \"\",\n        \"description\": \"\"\n      }\n    },\n    {\n      \"column\": \"household_size\",\n      \"properties\": {\n        \"dtype\": \"number\",\n        \"std\": 1,\n        \"min\": 2,\n        \"max\": 7,\n        \"num_unique_values\": 6,\n        \"samples\": [\n          5,\n          6,\n          2\n        ],\n        \"semantic_type\": \"\",\n        \"description\": \"\"\n      }\n    },\n    {\n      \"column\": \"children_under_5\",\n      \"properties\": {\n        \"dtype\": \"number\",\n        \"std\": 0,\n        \"min\": 0,\n        \"max\": 2,\n        \"num_unique_values\": 3,\n        \"samples\": [\n          0,\n          1,\n          2\n        ],\n        \"semantic_type\": \"\",\n        \"description\": \"\"\n      }\n    },\n    {\n      \"column\": \"elderly_60+\",\n      \"properties\": {\n        \"dtype\": \"number\",\n        \"std\": 0,\n        \"min\": 0,\n        \"max\": 2,\n        \"num_unique_values\": 3,\n        \"samples\": [\n          0,\n          1,\n          2\n        ],\n        \"semantic_type\": \"\",\n        \"description\": \"\"\n      }\n    },\n    {\n      \"column\": \"primary_occupation\",\n      \"properties\": {\n        \"dtype\": \"category\",\n        \"num_unique_values\": 5,\n        \"samples\": [\n          \"Business\",\n          \"Private\",\n          \"Govt Job\"\n        ],\n        \"semantic_type\": \"\",\n        \"description\": \"\"\n      }\n    },\n    {\n      \"column\": \"education_level\",\n      \"properties\": {\n        \"dtype\": \"category\",\n        \"num_unique_values\": 4,\n        \"samples\": [\n          \"Higher\",\n          \"Primary\",\n          \"No Education\"\n        ],\n        \"semantic_type\": \"\",\n        \"description\": \"\"\n      }\n    },\n    {\n      \"column\": \"storage_type\",\n      \"properties\": {\n        \"dtype\": \"category\",\n        \"num_unique_values\": 3,\n        \"samples\": [\n          \"Metal Container\",\n          \"Open Bucket\",\n          \"Closed Drum\"\n        ],\n        \"semantic_type\": \"\",\n        \"description\": \"\"\n      }\n    },\n    {\n      \"column\": \"water_treatment_method\",\n      \"properties\": {\n        \"dtype\": \"category\",\n        \"num_unique_values\": 5,\n        \"samples\": [\n          \"Chlorination\",\n          \"Filtration\",\n          \"SODIS\"\n        ],\n        \"semantic_type\": \"\",\n        \"description\": \"\"\n      }\n    },\n    {\n      \"column\": \"diarrhoea_cases_pre\",\n      \"properties\": {\n        \"dtype\": \"number\",\n        \"std\": 1,\n        \"min\": 0,\n        \"max\": 4,\n        \"num_unique_values\": 5,\n        \"samples\": [\n          1,\n          2,\n          4\n        ],\n        \"semantic_type\": \"\",\n        \"description\": \"\"\n      }\n    },\n    {\n      \"column\": \"diarrhoea_cases_post\",\n      \"properties\": {\n        \"dtype\": \"number\",\n        \"std\": 2,\n        \"min\": 0,\n        \"max\": 6,\n        \"num_unique_values\": 7,\n        \"samples\": [\n          5,\n          0,\n          1\n        ],\n        \"semantic_type\": \"\",\n        \"description\": \"\"\n      }\n    },\n    {\n      \"column\": \"typhoid_cases_pre\",\n      \"properties\": {\n        \"dtype\": \"number\",\n        \"std\": 0,\n        \"min\": 0,\n        \"max\": 2,\n        \"num_unique_values\": 3,\n        \"samples\": [\n          0,\n          1,\n          2\n        ],\n        \"semantic_type\": \"\",\n        \"description\": \"\"\n      }\n    },\n    {\n      \"column\": \"typhoid_cases_post\",\n      \"properties\": {\n        \"dtype\": \"number\",\n        \"std\": 0,\n        \"min\": 0,\n        \"max\": 1,\n        \"num_unique_values\": 2,\n        \"samples\": [\n          0,\n          1\n        ],\n        \"semantic_type\": \"\",\n        \"description\": \"\"\n      }\n    },\n    {\n      \"column\": \"cholera_cases_pre\",\n      \"properties\": {\n        \"dtype\": \"number\",\n        \"std\": 0,\n        \"min\": 0,\n        \"max\": 1,\n        \"num_unique_values\": 2,\n        \"samples\": [\n          1,\n          0\n        ],\n        \"semantic_type\": \"\",\n        \"description\": \"\"\n      }\n    },\n    {\n      \"column\": \"cholera_cases_post\",\n      \"properties\": {\n        \"dtype\": \"number\",\n        \"std\": 0,\n        \"min\": 0,\n        \"max\": 1,\n        \"num_unique_values\": 2,\n        \"samples\": [\n          1,\n          0\n        ],\n        \"semantic_type\": \"\",\n        \"description\": \"\"\n      }\n    },\n    {\n      \"column\": \"sought_treatment\",\n      \"properties\": {\n        \"dtype\": \"category\",\n        \"num_unique_values\": 2,\n        \"samples\": [\n          \"No\",\n          \"Yes\"\n        ],\n        \"semantic_type\": \"\",\n        \"description\": \"\"\n      }\n    },\n    {\n      \"column\": \"hospitalized\",\n      \"properties\": {\n        \"dtype\": \"category\",\n        \"num_unique_values\": 2,\n        \"samples\": [\n          \"Yes\",\n          \"No\"\n        ],\n        \"semantic_type\": \"\",\n        \"description\": \"\"\n      }\n    },\n    {\n      \"column\": \"believes_water_crisis_caused_disease\",\n      \"properties\": {\n        \"dtype\": \"category\",\n        \"num_unique_values\": 2,\n        \"samples\": [\n          \"Yes\",\n          \"No\"\n        ],\n        \"semantic_type\": \"\",\n        \"description\": \"\"\n      }\n    },\n    {\n      \"column\": \"interested_in_water_filters\",\n      \"properties\": {\n        \"dtype\": \"category\",\n        \"num_unique_values\": 2,\n        \"samples\": [\n          \"No\",\n          \"Yes\"\n        ],\n        \"semantic_type\": \"\",\n        \"description\": \"\"\n      }\n    }\n  ]\n}"
            }
          },
          "metadata": {},
          "execution_count": 38
        }
      ]
    },
    {
      "cell_type": "code",
      "source": [
        "df.info()"
      ],
      "metadata": {
        "colab": {
          "base_uri": "https://localhost:8080/"
        },
        "id": "qa0OlZotu33v",
        "outputId": "b0ae213b-591f-4ce7-a43e-924ebf2a7074"
      },
      "execution_count": null,
      "outputs": [
        {
          "output_type": "stream",
          "name": "stdout",
          "text": [
            "<class 'pandas.core.frame.DataFrame'>\n",
            "RangeIndex: 200 entries, 0 to 199\n",
            "Data columns (total 18 columns):\n",
            " #   Column                                Non-Null Count  Dtype \n",
            "---  ------                                --------------  ----- \n",
            " 0   Unnamed: 0                            200 non-null    int64 \n",
            " 1   household_size                        200 non-null    int64 \n",
            " 2   children_under_5                      200 non-null    int64 \n",
            " 3   elderly_60+                           200 non-null    int64 \n",
            " 4   primary_occupation                    200 non-null    object\n",
            " 5   education_level                       200 non-null    object\n",
            " 6   storage_type                          200 non-null    object\n",
            " 7   water_treatment_method                200 non-null    object\n",
            " 8   diarrhoea_cases_pre                   200 non-null    int64 \n",
            " 9   diarrhoea_cases_post                  200 non-null    int64 \n",
            " 10  typhoid_cases_pre                     200 non-null    int64 \n",
            " 11  typhoid_cases_post                    200 non-null    int64 \n",
            " 12  cholera_cases_pre                     200 non-null    int64 \n",
            " 13  cholera_cases_post                    200 non-null    int64 \n",
            " 14  sought_treatment                      200 non-null    object\n",
            " 15  hospitalized                          200 non-null    object\n",
            " 16  believes_water_crisis_caused_disease  200 non-null    object\n",
            " 17  interested_in_water_filters           200 non-null    object\n",
            "dtypes: int64(10), object(8)\n",
            "memory usage: 28.3+ KB\n"
          ]
        }
      ]
    },
    {
      "cell_type": "code",
      "source": [
        "df.describe()"
      ],
      "metadata": {
        "colab": {
          "base_uri": "https://localhost:8080/",
          "height": 337
        },
        "id": "HFhCleEmu6ux",
        "outputId": "69b03362-8296-471e-dd83-c197d6814773"
      },
      "execution_count": null,
      "outputs": [
        {
          "output_type": "execute_result",
          "data": {
            "text/plain": [
              "       Unnamed: 0  household_size  children_under_5  elderly_60+  \\\n",
              "count  200.000000      200.000000        200.000000   200.000000   \n",
              "mean    99.500000        4.535000          0.745000     0.470000   \n",
              "std     57.879185        1.680146          0.708863     0.539029   \n",
              "min      0.000000        2.000000          0.000000     0.000000   \n",
              "25%     49.750000        3.000000          0.000000     0.000000   \n",
              "50%     99.500000        5.000000          1.000000     0.000000   \n",
              "75%    149.250000        6.000000          1.000000     1.000000   \n",
              "max    199.000000        7.000000          2.000000     2.000000   \n",
              "\n",
              "       diarrhoea_cases_pre  diarrhoea_cases_post  typhoid_cases_pre  \\\n",
              "count           200.000000            200.000000         200.000000   \n",
              "mean              0.515000              1.500000           0.175000   \n",
              "std               1.065576              2.081264           0.406449   \n",
              "min               0.000000              0.000000           0.000000   \n",
              "25%               0.000000              0.000000           0.000000   \n",
              "50%               0.000000              0.000000           0.000000   \n",
              "75%               0.000000              3.000000           0.000000   \n",
              "max               4.000000              6.000000           2.000000   \n",
              "\n",
              "       typhoid_cases_post  cholera_cases_pre  cholera_cases_post  \n",
              "count           200.00000         200.000000          200.000000  \n",
              "mean              0.32500           0.065000            0.205000  \n",
              "std               0.46955           0.247144            0.404715  \n",
              "min               0.00000           0.000000            0.000000  \n",
              "25%               0.00000           0.000000            0.000000  \n",
              "50%               0.00000           0.000000            0.000000  \n",
              "75%               1.00000           0.000000            0.000000  \n",
              "max               1.00000           1.000000            1.000000  "
            ],
            "text/html": [
              "\n",
              "  <div id=\"df-a27c1b6e-cba8-439e-b9ab-48626816fa87\" class=\"colab-df-container\">\n",
              "    <div>\n",
              "<style scoped>\n",
              "    .dataframe tbody tr th:only-of-type {\n",
              "        vertical-align: middle;\n",
              "    }\n",
              "\n",
              "    .dataframe tbody tr th {\n",
              "        vertical-align: top;\n",
              "    }\n",
              "\n",
              "    .dataframe thead th {\n",
              "        text-align: right;\n",
              "    }\n",
              "</style>\n",
              "<table border=\"1\" class=\"dataframe\">\n",
              "  <thead>\n",
              "    <tr style=\"text-align: right;\">\n",
              "      <th></th>\n",
              "      <th>Unnamed: 0</th>\n",
              "      <th>household_size</th>\n",
              "      <th>children_under_5</th>\n",
              "      <th>elderly_60+</th>\n",
              "      <th>diarrhoea_cases_pre</th>\n",
              "      <th>diarrhoea_cases_post</th>\n",
              "      <th>typhoid_cases_pre</th>\n",
              "      <th>typhoid_cases_post</th>\n",
              "      <th>cholera_cases_pre</th>\n",
              "      <th>cholera_cases_post</th>\n",
              "    </tr>\n",
              "  </thead>\n",
              "  <tbody>\n",
              "    <tr>\n",
              "      <th>count</th>\n",
              "      <td>200.000000</td>\n",
              "      <td>200.000000</td>\n",
              "      <td>200.000000</td>\n",
              "      <td>200.000000</td>\n",
              "      <td>200.000000</td>\n",
              "      <td>200.000000</td>\n",
              "      <td>200.000000</td>\n",
              "      <td>200.00000</td>\n",
              "      <td>200.000000</td>\n",
              "      <td>200.000000</td>\n",
              "    </tr>\n",
              "    <tr>\n",
              "      <th>mean</th>\n",
              "      <td>99.500000</td>\n",
              "      <td>4.535000</td>\n",
              "      <td>0.745000</td>\n",
              "      <td>0.470000</td>\n",
              "      <td>0.515000</td>\n",
              "      <td>1.500000</td>\n",
              "      <td>0.175000</td>\n",
              "      <td>0.32500</td>\n",
              "      <td>0.065000</td>\n",
              "      <td>0.205000</td>\n",
              "    </tr>\n",
              "    <tr>\n",
              "      <th>std</th>\n",
              "      <td>57.879185</td>\n",
              "      <td>1.680146</td>\n",
              "      <td>0.708863</td>\n",
              "      <td>0.539029</td>\n",
              "      <td>1.065576</td>\n",
              "      <td>2.081264</td>\n",
              "      <td>0.406449</td>\n",
              "      <td>0.46955</td>\n",
              "      <td>0.247144</td>\n",
              "      <td>0.404715</td>\n",
              "    </tr>\n",
              "    <tr>\n",
              "      <th>min</th>\n",
              "      <td>0.000000</td>\n",
              "      <td>2.000000</td>\n",
              "      <td>0.000000</td>\n",
              "      <td>0.000000</td>\n",
              "      <td>0.000000</td>\n",
              "      <td>0.000000</td>\n",
              "      <td>0.000000</td>\n",
              "      <td>0.00000</td>\n",
              "      <td>0.000000</td>\n",
              "      <td>0.000000</td>\n",
              "    </tr>\n",
              "    <tr>\n",
              "      <th>25%</th>\n",
              "      <td>49.750000</td>\n",
              "      <td>3.000000</td>\n",
              "      <td>0.000000</td>\n",
              "      <td>0.000000</td>\n",
              "      <td>0.000000</td>\n",
              "      <td>0.000000</td>\n",
              "      <td>0.000000</td>\n",
              "      <td>0.00000</td>\n",
              "      <td>0.000000</td>\n",
              "      <td>0.000000</td>\n",
              "    </tr>\n",
              "    <tr>\n",
              "      <th>50%</th>\n",
              "      <td>99.500000</td>\n",
              "      <td>5.000000</td>\n",
              "      <td>1.000000</td>\n",
              "      <td>0.000000</td>\n",
              "      <td>0.000000</td>\n",
              "      <td>0.000000</td>\n",
              "      <td>0.000000</td>\n",
              "      <td>0.00000</td>\n",
              "      <td>0.000000</td>\n",
              "      <td>0.000000</td>\n",
              "    </tr>\n",
              "    <tr>\n",
              "      <th>75%</th>\n",
              "      <td>149.250000</td>\n",
              "      <td>6.000000</td>\n",
              "      <td>1.000000</td>\n",
              "      <td>1.000000</td>\n",
              "      <td>0.000000</td>\n",
              "      <td>3.000000</td>\n",
              "      <td>0.000000</td>\n",
              "      <td>1.00000</td>\n",
              "      <td>0.000000</td>\n",
              "      <td>0.000000</td>\n",
              "    </tr>\n",
              "    <tr>\n",
              "      <th>max</th>\n",
              "      <td>199.000000</td>\n",
              "      <td>7.000000</td>\n",
              "      <td>2.000000</td>\n",
              "      <td>2.000000</td>\n",
              "      <td>4.000000</td>\n",
              "      <td>6.000000</td>\n",
              "      <td>2.000000</td>\n",
              "      <td>1.00000</td>\n",
              "      <td>1.000000</td>\n",
              "      <td>1.000000</td>\n",
              "    </tr>\n",
              "  </tbody>\n",
              "</table>\n",
              "</div>\n",
              "    <div class=\"colab-df-buttons\">\n",
              "\n",
              "  <div class=\"colab-df-container\">\n",
              "    <button class=\"colab-df-convert\" onclick=\"convertToInteractive('df-a27c1b6e-cba8-439e-b9ab-48626816fa87')\"\n",
              "            title=\"Convert this dataframe to an interactive table.\"\n",
              "            style=\"display:none;\">\n",
              "\n",
              "  <svg xmlns=\"http://www.w3.org/2000/svg\" height=\"24px\" viewBox=\"0 -960 960 960\">\n",
              "    <path d=\"M120-120v-720h720v720H120Zm60-500h600v-160H180v160Zm220 220h160v-160H400v160Zm0 220h160v-160H400v160ZM180-400h160v-160H180v160Zm440 0h160v-160H620v160ZM180-180h160v-160H180v160Zm440 0h160v-160H620v160Z\"/>\n",
              "  </svg>\n",
              "    </button>\n",
              "\n",
              "  <style>\n",
              "    .colab-df-container {\n",
              "      display:flex;\n",
              "      gap: 12px;\n",
              "    }\n",
              "\n",
              "    .colab-df-convert {\n",
              "      background-color: #E8F0FE;\n",
              "      border: none;\n",
              "      border-radius: 50%;\n",
              "      cursor: pointer;\n",
              "      display: none;\n",
              "      fill: #1967D2;\n",
              "      height: 32px;\n",
              "      padding: 0 0 0 0;\n",
              "      width: 32px;\n",
              "    }\n",
              "\n",
              "    .colab-df-convert:hover {\n",
              "      background-color: #E2EBFA;\n",
              "      box-shadow: 0px 1px 2px rgba(60, 64, 67, 0.3), 0px 1px 3px 1px rgba(60, 64, 67, 0.15);\n",
              "      fill: #174EA6;\n",
              "    }\n",
              "\n",
              "    .colab-df-buttons div {\n",
              "      margin-bottom: 4px;\n",
              "    }\n",
              "\n",
              "    [theme=dark] .colab-df-convert {\n",
              "      background-color: #3B4455;\n",
              "      fill: #D2E3FC;\n",
              "    }\n",
              "\n",
              "    [theme=dark] .colab-df-convert:hover {\n",
              "      background-color: #434B5C;\n",
              "      box-shadow: 0px 1px 3px 1px rgba(0, 0, 0, 0.15);\n",
              "      filter: drop-shadow(0px 1px 2px rgba(0, 0, 0, 0.3));\n",
              "      fill: #FFFFFF;\n",
              "    }\n",
              "  </style>\n",
              "\n",
              "    <script>\n",
              "      const buttonEl =\n",
              "        document.querySelector('#df-a27c1b6e-cba8-439e-b9ab-48626816fa87 button.colab-df-convert');\n",
              "      buttonEl.style.display =\n",
              "        google.colab.kernel.accessAllowed ? 'block' : 'none';\n",
              "\n",
              "      async function convertToInteractive(key) {\n",
              "        const element = document.querySelector('#df-a27c1b6e-cba8-439e-b9ab-48626816fa87');\n",
              "        const dataTable =\n",
              "          await google.colab.kernel.invokeFunction('convertToInteractive',\n",
              "                                                    [key], {});\n",
              "        if (!dataTable) return;\n",
              "\n",
              "        const docLinkHtml = 'Like what you see? Visit the ' +\n",
              "          '<a target=\"_blank\" href=https://colab.research.google.com/notebooks/data_table.ipynb>data table notebook</a>'\n",
              "          + ' to learn more about interactive tables.';\n",
              "        element.innerHTML = '';\n",
              "        dataTable['output_type'] = 'display_data';\n",
              "        await google.colab.output.renderOutput(dataTable, element);\n",
              "        const docLink = document.createElement('div');\n",
              "        docLink.innerHTML = docLinkHtml;\n",
              "        element.appendChild(docLink);\n",
              "      }\n",
              "    </script>\n",
              "  </div>\n",
              "\n",
              "\n",
              "<div id=\"df-aaf56662-692b-4a03-9c58-2a2afd2eabfc\">\n",
              "  <button class=\"colab-df-quickchart\" onclick=\"quickchart('df-aaf56662-692b-4a03-9c58-2a2afd2eabfc')\"\n",
              "            title=\"Suggest charts\"\n",
              "            style=\"display:none;\">\n",
              "\n",
              "<svg xmlns=\"http://www.w3.org/2000/svg\" height=\"24px\"viewBox=\"0 0 24 24\"\n",
              "     width=\"24px\">\n",
              "    <g>\n",
              "        <path d=\"M19 3H5c-1.1 0-2 .9-2 2v14c0 1.1.9 2 2 2h14c1.1 0 2-.9 2-2V5c0-1.1-.9-2-2-2zM9 17H7v-7h2v7zm4 0h-2V7h2v10zm4 0h-2v-4h2v4z\"/>\n",
              "    </g>\n",
              "</svg>\n",
              "  </button>\n",
              "\n",
              "<style>\n",
              "  .colab-df-quickchart {\n",
              "      --bg-color: #E8F0FE;\n",
              "      --fill-color: #1967D2;\n",
              "      --hover-bg-color: #E2EBFA;\n",
              "      --hover-fill-color: #174EA6;\n",
              "      --disabled-fill-color: #AAA;\n",
              "      --disabled-bg-color: #DDD;\n",
              "  }\n",
              "\n",
              "  [theme=dark] .colab-df-quickchart {\n",
              "      --bg-color: #3B4455;\n",
              "      --fill-color: #D2E3FC;\n",
              "      --hover-bg-color: #434B5C;\n",
              "      --hover-fill-color: #FFFFFF;\n",
              "      --disabled-bg-color: #3B4455;\n",
              "      --disabled-fill-color: #666;\n",
              "  }\n",
              "\n",
              "  .colab-df-quickchart {\n",
              "    background-color: var(--bg-color);\n",
              "    border: none;\n",
              "    border-radius: 50%;\n",
              "    cursor: pointer;\n",
              "    display: none;\n",
              "    fill: var(--fill-color);\n",
              "    height: 32px;\n",
              "    padding: 0;\n",
              "    width: 32px;\n",
              "  }\n",
              "\n",
              "  .colab-df-quickchart:hover {\n",
              "    background-color: var(--hover-bg-color);\n",
              "    box-shadow: 0 1px 2px rgba(60, 64, 67, 0.3), 0 1px 3px 1px rgba(60, 64, 67, 0.15);\n",
              "    fill: var(--button-hover-fill-color);\n",
              "  }\n",
              "\n",
              "  .colab-df-quickchart-complete:disabled,\n",
              "  .colab-df-quickchart-complete:disabled:hover {\n",
              "    background-color: var(--disabled-bg-color);\n",
              "    fill: var(--disabled-fill-color);\n",
              "    box-shadow: none;\n",
              "  }\n",
              "\n",
              "  .colab-df-spinner {\n",
              "    border: 2px solid var(--fill-color);\n",
              "    border-color: transparent;\n",
              "    border-bottom-color: var(--fill-color);\n",
              "    animation:\n",
              "      spin 1s steps(1) infinite;\n",
              "  }\n",
              "\n",
              "  @keyframes spin {\n",
              "    0% {\n",
              "      border-color: transparent;\n",
              "      border-bottom-color: var(--fill-color);\n",
              "      border-left-color: var(--fill-color);\n",
              "    }\n",
              "    20% {\n",
              "      border-color: transparent;\n",
              "      border-left-color: var(--fill-color);\n",
              "      border-top-color: var(--fill-color);\n",
              "    }\n",
              "    30% {\n",
              "      border-color: transparent;\n",
              "      border-left-color: var(--fill-color);\n",
              "      border-top-color: var(--fill-color);\n",
              "      border-right-color: var(--fill-color);\n",
              "    }\n",
              "    40% {\n",
              "      border-color: transparent;\n",
              "      border-right-color: var(--fill-color);\n",
              "      border-top-color: var(--fill-color);\n",
              "    }\n",
              "    60% {\n",
              "      border-color: transparent;\n",
              "      border-right-color: var(--fill-color);\n",
              "    }\n",
              "    80% {\n",
              "      border-color: transparent;\n",
              "      border-right-color: var(--fill-color);\n",
              "      border-bottom-color: var(--fill-color);\n",
              "    }\n",
              "    90% {\n",
              "      border-color: transparent;\n",
              "      border-bottom-color: var(--fill-color);\n",
              "    }\n",
              "  }\n",
              "</style>\n",
              "\n",
              "  <script>\n",
              "    async function quickchart(key) {\n",
              "      const quickchartButtonEl =\n",
              "        document.querySelector('#' + key + ' button');\n",
              "      quickchartButtonEl.disabled = true;  // To prevent multiple clicks.\n",
              "      quickchartButtonEl.classList.add('colab-df-spinner');\n",
              "      try {\n",
              "        const charts = await google.colab.kernel.invokeFunction(\n",
              "            'suggestCharts', [key], {});\n",
              "      } catch (error) {\n",
              "        console.error('Error during call to suggestCharts:', error);\n",
              "      }\n",
              "      quickchartButtonEl.classList.remove('colab-df-spinner');\n",
              "      quickchartButtonEl.classList.add('colab-df-quickchart-complete');\n",
              "    }\n",
              "    (() => {\n",
              "      let quickchartButtonEl =\n",
              "        document.querySelector('#df-aaf56662-692b-4a03-9c58-2a2afd2eabfc button');\n",
              "      quickchartButtonEl.style.display =\n",
              "        google.colab.kernel.accessAllowed ? 'block' : 'none';\n",
              "    })();\n",
              "  </script>\n",
              "</div>\n",
              "\n",
              "    </div>\n",
              "  </div>\n"
            ],
            "application/vnd.google.colaboratory.intrinsic+json": {
              "type": "dataframe",
              "summary": "{\n  \"name\": \"df\",\n  \"rows\": 8,\n  \"fields\": [\n    {\n      \"column\": \"Unnamed: 0\",\n      \"properties\": {\n        \"dtype\": \"number\",\n        \"std\": 71.86278838929807,\n        \"min\": 0.0,\n        \"max\": 200.0,\n        \"num_unique_values\": 7,\n        \"samples\": [\n          200.0,\n          99.5,\n          149.25\n        ],\n        \"semantic_type\": \"\",\n        \"description\": \"\"\n      }\n    },\n    {\n      \"column\": \"household_size\",\n      \"properties\": {\n        \"dtype\": \"number\",\n        \"std\": 69.26031768347565,\n        \"min\": 1.6801456625055404,\n        \"max\": 200.0,\n        \"num_unique_values\": 8,\n        \"samples\": [\n          4.535,\n          5.0,\n          200.0\n        ],\n        \"semantic_type\": \"\",\n        \"description\": \"\"\n      }\n    },\n    {\n      \"column\": \"children_under_5\",\n      \"properties\": {\n        \"dtype\": \"number\",\n        \"std\": 70.43806424282893,\n        \"min\": 0.0,\n        \"max\": 200.0,\n        \"num_unique_values\": 6,\n        \"samples\": [\n          200.0,\n          0.745,\n          2.0\n        ],\n        \"semantic_type\": \"\",\n        \"description\": \"\"\n      }\n    },\n    {\n      \"column\": \"elderly_60+\",\n      \"properties\": {\n        \"dtype\": \"number\",\n        \"std\": 70.51144885748545,\n        \"min\": 0.0,\n        \"max\": 200.0,\n        \"num_unique_values\": 6,\n        \"samples\": [\n          200.0,\n          0.47,\n          2.0\n        ],\n        \"semantic_type\": \"\",\n        \"description\": \"\"\n      }\n    },\n    {\n      \"column\": \"diarrhoea_cases_pre\",\n      \"properties\": {\n        \"dtype\": \"number\",\n        \"std\": 70.44195079486711,\n        \"min\": 0.0,\n        \"max\": 200.0,\n        \"num_unique_values\": 5,\n        \"samples\": [\n          0.515,\n          4.0,\n          1.0655760232411995\n        ],\n        \"semantic_type\": \"\",\n        \"description\": \"\"\n      }\n    },\n    {\n      \"column\": \"diarrhoea_cases_post\",\n      \"properties\": {\n        \"dtype\": \"number\",\n        \"std\": 70.10475065678853,\n        \"min\": 0.0,\n        \"max\": 200.0,\n        \"num_unique_values\": 6,\n        \"samples\": [\n          200.0,\n          1.5,\n          6.0\n        ],\n        \"semantic_type\": \"\",\n        \"description\": \"\"\n      }\n    },\n    {\n      \"column\": \"typhoid_cases_pre\",\n      \"properties\": {\n        \"dtype\": \"number\",\n        \"std\": 70.58357799467863,\n        \"min\": 0.0,\n        \"max\": 200.0,\n        \"num_unique_values\": 5,\n        \"samples\": [\n          0.175,\n          2.0,\n          0.4064492650074864\n        ],\n        \"semantic_type\": \"\",\n        \"description\": \"\"\n      }\n    },\n    {\n      \"column\": \"typhoid_cases_post\",\n      \"properties\": {\n        \"dtype\": \"number\",\n        \"std\": 70.57075720126286,\n        \"min\": 0.0,\n        \"max\": 200.0,\n        \"num_unique_values\": 5,\n        \"samples\": [\n          0.325,\n          1.0,\n          0.46955019639509676\n        ],\n        \"semantic_type\": \"\",\n        \"description\": \"\"\n      }\n    },\n    {\n      \"column\": \"cholera_cases_pre\",\n      \"properties\": {\n        \"dtype\": \"number\",\n        \"std\": 70.64523324854957,\n        \"min\": 0.0,\n        \"max\": 200.0,\n        \"num_unique_values\": 5,\n        \"samples\": [\n          0.065,\n          1.0,\n          0.2471444962163839\n        ],\n        \"semantic_type\": \"\",\n        \"description\": \"\"\n      }\n    },\n    {\n      \"column\": \"cholera_cases_post\",\n      \"properties\": {\n        \"dtype\": \"number\",\n        \"std\": 70.63022035062797,\n        \"min\": 0.0,\n        \"max\": 200.0,\n        \"num_unique_values\": 5,\n        \"samples\": [\n          0.205,\n          1.0,\n          0.40471467708651954\n        ],\n        \"semantic_type\": \"\",\n        \"description\": \"\"\n      }\n    }\n  ]\n}"
            }
          },
          "metadata": {},
          "execution_count": 40
        }
      ]
    },
    {
      "cell_type": "markdown",
      "source": [
        "### Converting categorical columns to categorical data type"
      ],
      "metadata": {
        "id": "_RxfAkofM5nw"
      }
    },
    {
      "cell_type": "code",
      "source": [
        "categorical_cols = ['primary_occupation', 'education_level', 'storage_type',\n",
        "                    'water_treatment_method', 'sought_treatment', 'hospitalized',\n",
        "                    'believes_water_crisis_caused_disease', 'interested_in_water_filters']\n",
        "for col in categorical_cols:\n",
        "    df[col] = df[col].astype('category')"
      ],
      "metadata": {
        "id": "KQFwBDpIvAOn"
      },
      "execution_count": null,
      "outputs": []
    },
    {
      "cell_type": "markdown",
      "source": [
        "## EDA"
      ],
      "metadata": {
        "id": "Fx79dSnIyo-A"
      }
    },
    {
      "cell_type": "markdown",
      "source": [
        "### Numerical Features"
      ],
      "metadata": {
        "id": "iLSGG3Omyycc"
      }
    },
    {
      "cell_type": "markdown",
      "source": [
        "1. Household Size"
      ],
      "metadata": {
        "id": "OC2Z4A3Vy5DW"
      }
    },
    {
      "cell_type": "code",
      "source": [
        "plt.figure(figsize=(6, 4))\n",
        "sns.histplot(df['household_size'], kde=False, color=\"#8ECAE6\", binwidth=0.45)\n",
        "plt.title(\"Distribution of Household Size\")\n",
        "plt.xlabel(\"Household Size\")\n",
        "plt.show()\n",
        "\n",
        "\n",
        "plt.figure(figsize=(6, 3))\n",
        "sns.boxplot(x=df['household_size'],\n",
        "            color=\"#219ebc\",\n",
        "            medianprops=dict(color=\"#ffb703\", linewidth=2))\n",
        "\n",
        "plt.title(\"Household Size Boxplot\")\n",
        "plt.xlabel(\"Household Size\")"
      ],
      "metadata": {
        "colab": {
          "base_uri": "https://localhost:8080/",
          "height": 743
        },
        "id": "HdZtBmLfyCgb",
        "outputId": "9caff9f1-1df5-46f0-9764-2cab68dd1864"
      },
      "execution_count": null,
      "outputs": [
        {
          "output_type": "display_data",
          "data": {
            "text/plain": [
              "<Figure size 600x400 with 1 Axes>"
            ],
            "image/png": "[encoded data removed]"
          },
          "metadata": {}
        },
        {
          "output_type": "execute_result",
          "data": {
            "text/plain": [
              "Text(0.5, 0, 'Household Size')"
            ]
          },
          "metadata": {},
          "execution_count": 42
        },
        {
          "output_type": "display_data",
          "data": {
            "text/plain": [
              "<Figure size 600x300 with 1 Axes>"
            ],
            "image/png": "[encoded data removed]"
          },
          "metadata": {}
        }
      ]
    },
    {
      "cell_type": "markdown",
      "source": [
        "2. Children under 5 years old"
      ],
      "metadata": {
        "id": "9gxbZPf13HzU"
      }
    },
    {
      "cell_type": "code",
      "source": [
        "plt.figure(figsize=(6, 4))\n",
        "\n",
        "# Histogram with spacing using 'shrink'\n",
        "sns.histplot(df['children_under_5'], kde=False, color=\"#8ECAE6\", binwidth=1, discrete=True, shrink=0.8)\n",
        "\n",
        "# Set x-axis ticks to whole numbers\n",
        "plt.xticks(np.arange(df['children_under_5'].min(), df['children_under_5'].max() + 1, 1))\n",
        "\n",
        "plt.title(\"Distribution of Children under 5 Years\")\n",
        "plt.xlabel(\"Number of Children Under 5\")\n",
        "plt.ylabel(\"Count\")\n",
        "plt.show()\n",
        "\n",
        "\n",
        "# Boxplot for Children under 5 Years\n",
        "plt.figure(figsize=(6, 3))\n",
        "\n",
        "sns.boxplot(x=df['children_under_5'],\n",
        "            color=\"#219EBC\",\n",
        "            medianprops=dict(color=\"#FFB703\", linewidth=2))\n",
        "\n",
        "plt.xticks(np.arange(df['children_under_5'].min(), df['children_under_5'].max() + 1, 1))  # Ensure whole number ticks\n",
        "plt.title(\"Children under 5 Years Boxplot\")\n",
        "plt.xlabel(\"No of Children\")\n",
        "plt.show()\n"
      ],
      "metadata": {
        "colab": {
          "base_uri": "https://localhost:8080/",
          "height": 726
        },
        "id": "BwQ-e7yEyJyo",
        "outputId": "662060a8-2981-43e8-8e85-589d9944daa6"
      },
      "execution_count": null,
      "outputs": [
        {
          "output_type": "display_data",
          "data": {
            "text/plain": [
              "<Figure size 600x400 with 1 Axes>"
            ],
            "image/png": "[encoded data removed]"
          },
          "metadata": {}
        },
        {
          "output_type": "display_data",
          "data": {
            "text/plain": [
              "<Figure size 600x300 with 1 Axes>"
            ],
            "image/png": "[encoded data removed]"
          },
          "metadata": {}
        }
      ]
    },
    {
      "cell_type": "markdown",
      "source": [
        "3. Elderly Over 60 years old"
      ],
      "metadata": {
        "id": "j7RtYD_y4wPg"
      }
    },
    {
      "cell_type": "code",
      "source": [
        "plt.figure(figsize=(6, 4))\n",
        "\n",
        "sns.histplot(df['elderly_60+'], kde=False, color=\"#8ECAE6\", binwidth=1, discrete=True, shrink=0.8)\n",
        "\n",
        "plt.xticks(np.arange(df['elderly_60+'].min(), df['elderly_60+'].max() + 1, 1))\n",
        "\n",
        "plt.title(\"Distribution of Elderly Population\")\n",
        "plt.xlabel(\"Number of Elderly Over 60\")\n",
        "plt.ylabel(\"Count\")\n",
        "\n",
        "plt.show()\n",
        "\n",
        "\n",
        "plt.figure(figsize=(6, 3))\n",
        "sns.boxplot(x=df['elderly_60+'],\n",
        "            color=\"#219ebc\",\n",
        "            medianprops=dict(color=\"#ffb703\", linewidth=2))\n",
        "plt.xticks(np.arange(df['elderly_60+'].min(), df['elderly_60+'].max() + 1, 1))\n",
        "plt.xlabel(\"No. of elderly over 60\")\n",
        "plt.title(\"Elderly Over 60+ Boxplot\")\n",
        "plt.show()"
      ],
      "metadata": {
        "colab": {
          "base_uri": "https://localhost:8080/",
          "height": 726
        },
        "id": "lMMIQSiH3u0u",
        "outputId": "2fac10cd-f4f3-4533-91e4-458a51d5a00c"
      },
      "execution_count": null,
      "outputs": [
        {
          "output_type": "display_data",
          "data": {
            "text/plain": [
              "<Figure size 600x400 with 1 Axes>"
            ],
            "image/png": "[encoded data removed]"
          },
          "metadata": {}
        },
        {
          "output_type": "display_data",
          "data": {
            "text/plain": [
              "<Figure size 600x300 with 1 Axes>"
            ],
            "image/png": "[encoded data removed]"
          },
          "metadata": {}
        }
      ]
    },
    {
      "cell_type": "markdown",
      "source": [
        "### Categorical Features"
      ],
      "metadata": {
        "id": "xxE4TH3gIz3d"
      }
    },
    {
      "cell_type": "markdown",
      "source": [
        "1. Distribution of Education Level"
      ],
      "metadata": {
        "id": "9hYKTQ0jI8Da"
      }
    },
    {
      "cell_type": "code",
      "source": [
        "plt.figure(figsize=(6, 4))\n",
        "\n",
        "order = [\"Primary\", \"Secondary\", \"Higher\", \"No Education\"]\n",
        "sns.countplot(x='education_level', data=df, color=\"#8ECAE6\", edgecolor=\"black\", linewidth=1.5, order=order)\n",
        "\n",
        "plt.title(\"Frequency of Education Levels\")\n",
        "plt.xlabel(\"Education Level\")\n",
        "plt.ylabel(\"Count\")"
      ],
      "metadata": {
        "colab": {
          "base_uri": "https://localhost:8080/",
          "height": 427
        },
        "id": "_XqaQJvVG8oC",
        "outputId": "61e2a5ab-48f1-4c22-cdc3-0334d863c126"
      },
      "execution_count": null,
      "outputs": [
        {
          "output_type": "execute_result",
          "data": {
            "text/plain": [
              "Text(0, 0.5, 'Count')"
            ]
          },
          "metadata": {},
          "execution_count": 45
        },
        {
          "output_type": "display_data",
          "data": {
            "text/plain": [
              "<Figure size 600x400 with 1 Axes>"
            ],
            "image/png": "[encoded data removed]"
          },
          "metadata": {}
        }
      ]
    },
    {
      "cell_type": "markdown",
      "source": [
        "2. Distribution of Primary Occupation"
      ],
      "metadata": {
        "id": "ceV_GLwTNhIk"
      }
    },
    {
      "cell_type": "code",
      "source": [
        "plt.figure(figsize=(6, 4))\n",
        "sns.countplot(x='primary_occupation', data=df, color=\"#8ECAE6\", edgecolor=\"black\", linewidth=1.0)\n",
        "plt.title(\"Frequency of Primary Occupation\")\n",
        "plt.xlabel(\"Primary Occupation\")\n",
        "plt.ylabel(\"Count\")\n",
        "plt.show()"
      ],
      "metadata": {
        "colab": {
          "base_uri": "https://localhost:8080/",
          "height": 410
        },
        "id": "auThBhzyJHUh",
        "outputId": "4ed93647-3127-4c22-a79f-493811919ea5"
      },
      "execution_count": null,
      "outputs": [
        {
          "output_type": "display_data",
          "data": {
            "text/plain": [
              "<Figure size 600x400 with 1 Axes>"
            ],
            "image/png": "[encoded data removed]"
          },
          "metadata": {}
        }
      ]
    },
    {
      "cell_type": "markdown",
      "source": [
        "3. Distribution of Water Storage"
      ],
      "metadata": {
        "id": "CUNsh_rBNomw"
      }
    },
    {
      "cell_type": "code",
      "source": [
        "plt.figure(figsize=(6, 4))\n",
        "sns.countplot(x='storage_type', data=df, color=\"#8ECAE6\", edgecolor=\"black\", linewidth=1.0)\n",
        "plt.title(\"Distribution of Water Storage Type\")\n",
        "plt.xlabel(\"Storage Type\")\n",
        "plt.ylabel(\"Count\")\n",
        "plt.show()"
      ],
      "metadata": {
        "colab": {
          "base_uri": "https://localhost:8080/",
          "height": 410
        },
        "id": "-8RG8zuoJgea",
        "outputId": "38945243-e2c6-4e9b-aed4-1708c4f7b79d"
      },
      "execution_count": null,
      "outputs": [
        {
          "output_type": "display_data",
          "data": {
            "text/plain": [
              "<Figure size 600x400 with 1 Axes>"
            ],
            "image/png": "[encoded data removed]"
          },
          "metadata": {}
        }
      ]
    },
    {
      "cell_type": "markdown",
      "source": [
        "4. Distribution of Water Filtration Methods"
      ],
      "metadata": {
        "id": "3y5pqHQ2Nv5M"
      }
    },
    {
      "cell_type": "code",
      "source": [
        "plt.figure(figsize=(6, 4))\n",
        "sns.countplot(x='water_treatment_method', data=df, color=\"#8ECAE6\", edgecolor=\"black\", linewidth=1.0)\n",
        "plt.title(\"Distribution of Water Treatment Method\")\n",
        "plt.xlabel(\"Treatment Method\")\n",
        "plt.ylabel(\"Count\")\n",
        "plt.show()"
      ],
      "metadata": {
        "colab": {
          "base_uri": "https://localhost:8080/",
          "height": 410
        },
        "id": "RxuLCYH7KOGX",
        "outputId": "09108d22-1dae-4eb7-fa77-a19551acdcaa"
      },
      "execution_count": null,
      "outputs": [
        {
          "output_type": "display_data",
          "data": {
            "text/plain": [
              "<Figure size 600x400 with 1 Axes>"
            ],
            "image/png": "[encoded data removed]"
          },
          "metadata": {}
        }
      ]
    },
    {
      "cell_type": "markdown",
      "source": [
        "5. Comparision of Waterborne Disease Cases (Pre and Post)"
      ],
      "metadata": {
        "id": "WFWxM_5MMMQJ"
      }
    },
    {
      "cell_type": "code",
      "source": [
        "disease_cols = ['diarrhoea_cases_pre', 'diarrhoea_cases_post',\n",
        "                'typhoid_cases_pre', 'typhoid_cases_post',\n",
        "                'cholera_cases_pre', 'cholera_cases_post']\n",
        "df[disease_cols].describe()"
      ],
      "metadata": {
        "colab": {
          "base_uri": "https://localhost:8080/",
          "height": 320
        },
        "id": "q6t4c3ilKyDa",
        "outputId": "e150d8fd-32cf-4705-9cda-cd027232de21"
      },
      "execution_count": null,
      "outputs": [
        {
          "output_type": "execute_result",
          "data": {
            "text/plain": [
              "       diarrhoea_cases_pre  diarrhoea_cases_post  typhoid_cases_pre  \\\n",
              "count           200.000000            200.000000         200.000000   \n",
              "mean              0.515000              1.500000           0.175000   \n",
              "std               1.065576              2.081264           0.406449   \n",
              "min               0.000000              0.000000           0.000000   \n",
              "25%               0.000000              0.000000           0.000000   \n",
              "50%               0.000000              0.000000           0.000000   \n",
              "75%               0.000000              3.000000           0.000000   \n",
              "max               4.000000              6.000000           2.000000   \n",
              "\n",
              "       typhoid_cases_post  cholera_cases_pre  cholera_cases_post  \n",
              "count           200.00000         200.000000          200.000000  \n",
              "mean              0.32500           0.065000            0.205000  \n",
              "std               0.46955           0.247144            0.404715  \n",
              "min               0.00000           0.000000            0.000000  \n",
              "25%               0.00000           0.000000            0.000000  \n",
              "50%               0.00000           0.000000            0.000000  \n",
              "75%               1.00000           0.000000            0.000000  \n",
              "max               1.00000           1.000000            1.000000  "
            ],
            "text/html": [
              "\n",
              "  <div id=\"df-42700657-7a52-41ae-aaea-e9c0d8583316\" class=\"colab-df-container\">\n",
              "    <div>\n",
              "<style scoped>\n",
              "    .dataframe tbody tr th:only-of-type {\n",
              "        vertical-align: middle;\n",
              "    }\n",
              "\n",
              "    .dataframe tbody tr th {\n",
              "        vertical-align: top;\n",
              "    }\n",
              "\n",
              "    .dataframe thead th {\n",
              "        text-align: right;\n",
              "    }\n",
              "</style>\n",
              "<table border=\"1\" class=\"dataframe\">\n",
              "  <thead>\n",
              "    <tr style=\"text-align: right;\">\n",
              "      <th></th>\n",
              "      <th>diarrhoea_cases_pre</th>\n",
              "      <th>diarrhoea_cases_post</th>\n",
              "      <th>typhoid_cases_pre</th>\n",
              "      <th>typhoid_cases_post</th>\n",
              "      <th>cholera_cases_pre</th>\n",
              "      <th>cholera_cases_post</th>\n",
              "    </tr>\n",
              "  </thead>\n",
              "  <tbody>\n",
              "    <tr>\n",
              "      <th>count</th>\n",
              "      <td>200.000000</td>\n",
              "      <td>200.000000</td>\n",
              "      <td>200.000000</td>\n",
              "      <td>200.00000</td>\n",
              "      <td>200.000000</td>\n",
              "      <td>200.000000</td>\n",
              "    </tr>\n",
              "    <tr>\n",
              "      <th>mean</th>\n",
              "      <td>0.515000</td>\n",
              "      <td>1.500000</td>\n",
              "      <td>0.175000</td>\n",
              "      <td>0.32500</td>\n",
              "      <td>0.065000</td>\n",
              "      <td>0.205000</td>\n",
              "    </tr>\n",
              "    <tr>\n",
              "      <th>std</th>\n",
              "      <td>1.065576</td>\n",
              "      <td>2.081264</td>\n",
              "      <td>0.406449</td>\n",
              "      <td>0.46955</td>\n",
              "      <td>0.247144</td>\n",
              "      <td>0.404715</td>\n",
              "    </tr>\n",
              "    <tr>\n",
              "      <th>min</th>\n",
              "      <td>0.000000</td>\n",
              "      <td>0.000000</td>\n",
              "      <td>0.000000</td>\n",
              "      <td>0.00000</td>\n",
              "      <td>0.000000</td>\n",
              "      <td>0.000000</td>\n",
              "    </tr>\n",
              "    <tr>\n",
              "      <th>25%</th>\n",
              "      <td>0.000000</td>\n",
              "      <td>0.000000</td>\n",
              "      <td>0.000000</td>\n",
              "      <td>0.00000</td>\n",
              "      <td>0.000000</td>\n",
              "      <td>0.000000</td>\n",
              "    </tr>\n",
              "    <tr>\n",
              "      <th>50%</th>\n",
              "      <td>0.000000</td>\n",
              "      <td>0.000000</td>\n",
              "      <td>0.000000</td>\n",
              "      <td>0.00000</td>\n",
              "      <td>0.000000</td>\n",
              "      <td>0.000000</td>\n",
              "    </tr>\n",
              "    <tr>\n",
              "      <th>75%</th>\n",
              "      <td>0.000000</td>\n",
              "      <td>3.000000</td>\n",
              "      <td>0.000000</td>\n",
              "      <td>1.00000</td>\n",
              "      <td>0.000000</td>\n",
              "      <td>0.000000</td>\n",
              "    </tr>\n",
              "    <tr>\n",
              "      <th>max</th>\n",
              "      <td>4.000000</td>\n",
              "      <td>6.000000</td>\n",
              "      <td>2.000000</td>\n",
              "      <td>1.00000</td>\n",
              "      <td>1.000000</td>\n",
              "      <td>1.000000</td>\n",
              "    </tr>\n",
              "  </tbody>\n",
              "</table>\n",
              "</div>\n",
              "    <div class=\"colab-df-buttons\">\n",
              "\n",
              "  <div class=\"colab-df-container\">\n",
              "    <button class=\"colab-df-convert\" onclick=\"convertToInteractive('df-42700657-7a52-41ae-aaea-e9c0d8583316')\"\n",
              "            title=\"Convert this dataframe to an interactive table.\"\n",
              "            style=\"display:none;\">\n",
              "\n",
              "  <svg xmlns=\"http://www.w3.org/2000/svg\" height=\"24px\" viewBox=\"0 -960 960 960\">\n",
              "    <path d=\"M120-120v-720h720v720H120Zm60-500h600v-160H180v160Zm220 220h160v-160H400v160Zm0 220h160v-160H400v160ZM180-400h160v-160H180v160Zm440 0h160v-160H620v160ZM180-180h160v-160H180v160Zm440 0h160v-160H620v160Z\"/>\n",
              "  </svg>\n",
              "    </button>\n",
              "\n",
              "  <style>\n",
              "    .colab-df-container {\n",
              "      display:flex;\n",
              "      gap: 12px;\n",
              "    }\n",
              "\n",
              "    .colab-df-convert {\n",
              "      background-color: #E8F0FE;\n",
              "      border: none;\n",
              "      border-radius: 50%;\n",
              "      cursor: pointer;\n",
              "      display: none;\n",
              "      fill: #1967D2;\n",
              "      height: 32px;\n",
              "      padding: 0 0 0 0;\n",
              "      width: 32px;\n",
              "    }\n",
              "\n",
              "    .colab-df-convert:hover {\n",
              "      background-color: #E2EBFA;\n",
              "      box-shadow: 0px 1px 2px rgba(60, 64, 67, 0.3), 0px 1px 3px 1px rgba(60, 64, 67, 0.15);\n",
              "      fill: #174EA6;\n",
              "    }\n",
              "\n",
              "    .colab-df-buttons div {\n",
              "      margin-bottom: 4px;\n",
              "    }\n",
              "\n",
              "    [theme=dark] .colab-df-convert {\n",
              "      background-color: #3B4455;\n",
              "      fill: #D2E3FC;\n",
              "    }\n",
              "\n",
              "    [theme=dark] .colab-df-convert:hover {\n",
              "      background-color: #434B5C;\n",
              "      box-shadow: 0px 1px 3px 1px rgba(0, 0, 0, 0.15);\n",
              "      filter: drop-shadow(0px 1px 2px rgba(0, 0, 0, 0.3));\n",
              "      fill: #FFFFFF;\n",
              "    }\n",
              "  </style>\n",
              "\n",
              "    <script>\n",
              "      const buttonEl =\n",
              "        document.querySelector('#df-42700657-7a52-41ae-aaea-e9c0d8583316 button.colab-df-convert');\n",
              "      buttonEl.style.display =\n",
              "        google.colab.kernel.accessAllowed ? 'block' : 'none';\n",
              "\n",
              "      async function convertToInteractive(key) {\n",
              "        const element = document.querySelector('#df-42700657-7a52-41ae-aaea-e9c0d8583316');\n",
              "        const dataTable =\n",
              "          await google.colab.kernel.invokeFunction('convertToInteractive',\n",
              "                                                    [key], {});\n",
              "        if (!dataTable) return;\n",
              "\n",
              "        const docLinkHtml = 'Like what you see? Visit the ' +\n",
              "          '<a target=\"_blank\" href=https://colab.research.google.com/notebooks/data_table.ipynb>data table notebook</a>'\n",
              "          + ' to learn more about interactive tables.';\n",
              "        element.innerHTML = '';\n",
              "        dataTable['output_type'] = 'display_data';\n",
              "        await google.colab.output.renderOutput(dataTable, element);\n",
              "        const docLink = document.createElement('div');\n",
              "        docLink.innerHTML = docLinkHtml;\n",
              "        element.appendChild(docLink);\n",
              "      }\n",
              "    </script>\n",
              "  </div>\n",
              "\n",
              "\n",
              "<div id=\"df-f4729972-6b25-4464-9726-408becd132f9\">\n",
              "  <button class=\"colab-df-quickchart\" onclick=\"quickchart('df-f4729972-6b25-4464-9726-408becd132f9')\"\n",
              "            title=\"Suggest charts\"\n",
              "            style=\"display:none;\">\n",
              "\n",
              "<svg xmlns=\"http://www.w3.org/2000/svg\" height=\"24px\"viewBox=\"0 0 24 24\"\n",
              "     width=\"24px\">\n",
              "    <g>\n",
              "        <path d=\"M19 3H5c-1.1 0-2 .9-2 2v14c0 1.1.9 2 2 2h14c1.1 0 2-.9 2-2V5c0-1.1-.9-2-2-2zM9 17H7v-7h2v7zm4 0h-2V7h2v10zm4 0h-2v-4h2v4z\"/>\n",
              "    </g>\n",
              "</svg>\n",
              "  </button>\n",
              "\n",
              "<style>\n",
              "  .colab-df-quickchart {\n",
              "      --bg-color: #E8F0FE;\n",
              "      --fill-color: #1967D2;\n",
              "      --hover-bg-color: #E2EBFA;\n",
              "      --hover-fill-color: #174EA6;\n",
              "      --disabled-fill-color: #AAA;\n",
              "      --disabled-bg-color: #DDD;\n",
              "  }\n",
              "\n",
              "  [theme=dark] .colab-df-quickchart {\n",
              "      --bg-color: #3B4455;\n",
              "      --fill-color: #D2E3FC;\n",
              "      --hover-bg-color: #434B5C;\n",
              "      --hover-fill-color: #FFFFFF;\n",
              "      --disabled-bg-color: #3B4455;\n",
              "      --disabled-fill-color: #666;\n",
              "  }\n",
              "\n",
              "  .colab-df-quickchart {\n",
              "    background-color: var(--bg-color);\n",
              "    border: none;\n",
              "    border-radius: 50%;\n",
              "    cursor: pointer;\n",
              "    display: none;\n",
              "    fill: var(--fill-color);\n",
              "    height: 32px;\n",
              "    padding: 0;\n",
              "    width: 32px;\n",
              "  }\n",
              "\n",
              "  .colab-df-quickchart:hover {\n",
              "    background-color: var(--hover-bg-color);\n",
              "    box-shadow: 0 1px 2px rgba(60, 64, 67, 0.3), 0 1px 3px 1px rgba(60, 64, 67, 0.15);\n",
              "    fill: var(--button-hover-fill-color);\n",
              "  }\n",
              "\n",
              "  .colab-df-quickchart-complete:disabled,\n",
              "  .colab-df-quickchart-complete:disabled:hover {\n",
              "    background-color: var(--disabled-bg-color);\n",
              "    fill: var(--disabled-fill-color);\n",
              "    box-shadow: none;\n",
              "  }\n",
              "\n",
              "  .colab-df-spinner {\n",
              "    border: 2px solid var(--fill-color);\n",
              "    border-color: transparent;\n",
              "    border-bottom-color: var(--fill-color);\n",
              "    animation:\n",
              "      spin 1s steps(1) infinite;\n",
              "  }\n",
              "\n",
              "  @keyframes spin {\n",
              "    0% {\n",
              "      border-color: transparent;\n",
              "      border-bottom-color: var(--fill-color);\n",
              "      border-left-color: var(--fill-color);\n",
              "    }\n",
              "    20% {\n",
              "      border-color: transparent;\n",
              "      border-left-color: var(--fill-color);\n",
              "      border-top-color: var(--fill-color);\n",
              "    }\n",
              "    30% {\n",
              "      border-color: transparent;\n",
              "      border-left-color: var(--fill-color);\n",
              "      border-top-color: var(--fill-color);\n",
              "      border-right-color: var(--fill-color);\n",
              "    }\n",
              "    40% {\n",
              "      border-color: transparent;\n",
              "      border-right-color: var(--fill-color);\n",
              "      border-top-color: var(--fill-color);\n",
              "    }\n",
              "    60% {\n",
              "      border-color: transparent;\n",
              "      border-right-color: var(--fill-color);\n",
              "    }\n",
              "    80% {\n",
              "      border-color: transparent;\n",
              "      border-right-color: var(--fill-color);\n",
              "      border-bottom-color: var(--fill-color);\n",
              "    }\n",
              "    90% {\n",
              "      border-color: transparent;\n",
              "      border-bottom-color: var(--fill-color);\n",
              "    }\n",
              "  }\n",
              "</style>\n",
              "\n",
              "  <script>\n",
              "    async function quickchart(key) {\n",
              "      const quickchartButtonEl =\n",
              "        document.querySelector('#' + key + ' button');\n",
              "      quickchartButtonEl.disabled = true;  // To prevent multiple clicks.\n",
              "      quickchartButtonEl.classList.add('colab-df-spinner');\n",
              "      try {\n",
              "        const charts = await google.colab.kernel.invokeFunction(\n",
              "            'suggestCharts', [key], {});\n",
              "      } catch (error) {\n",
              "        console.error('Error during call to suggestCharts:', error);\n",
              "      }\n",
              "      quickchartButtonEl.classList.remove('colab-df-spinner');\n",
              "      quickchartButtonEl.classList.add('colab-df-quickchart-complete');\n",
              "    }\n",
              "    (() => {\n",
              "      let quickchartButtonEl =\n",
              "        document.querySelector('#df-f4729972-6b25-4464-9726-408becd132f9 button');\n",
              "      quickchartButtonEl.style.display =\n",
              "        google.colab.kernel.accessAllowed ? 'block' : 'none';\n",
              "    })();\n",
              "  </script>\n",
              "</div>\n",
              "\n",
              "    </div>\n",
              "  </div>\n"
            ],
            "application/vnd.google.colaboratory.intrinsic+json": {
              "type": "dataframe",
              "summary": "{\n  \"name\": \"df[disease_cols]\",\n  \"rows\": 8,\n  \"fields\": [\n    {\n      \"column\": \"diarrhoea_cases_pre\",\n      \"properties\": {\n        \"dtype\": \"number\",\n        \"std\": 70.44195079486711,\n        \"min\": 0.0,\n        \"max\": 200.0,\n        \"num_unique_values\": 5,\n        \"samples\": [\n          0.515,\n          4.0,\n          1.0655760232411995\n        ],\n        \"semantic_type\": \"\",\n        \"description\": \"\"\n      }\n    },\n    {\n      \"column\": \"diarrhoea_cases_post\",\n      \"properties\": {\n        \"dtype\": \"number\",\n        \"std\": 70.10475065678853,\n        \"min\": 0.0,\n        \"max\": 200.0,\n        \"num_unique_values\": 6,\n        \"samples\": [\n          200.0,\n          1.5,\n          6.0\n        ],\n        \"semantic_type\": \"\",\n        \"description\": \"\"\n      }\n    },\n    {\n      \"column\": \"typhoid_cases_pre\",\n      \"properties\": {\n        \"dtype\": \"number\",\n        \"std\": 70.58357799467863,\n        \"min\": 0.0,\n        \"max\": 200.0,\n        \"num_unique_values\": 5,\n        \"samples\": [\n          0.175,\n          2.0,\n          0.4064492650074864\n        ],\n        \"semantic_type\": \"\",\n        \"description\": \"\"\n      }\n    },\n    {\n      \"column\": \"typhoid_cases_post\",\n      \"properties\": {\n        \"dtype\": \"number\",\n        \"std\": 70.57075720126286,\n        \"min\": 0.0,\n        \"max\": 200.0,\n        \"num_unique_values\": 5,\n        \"samples\": [\n          0.325,\n          1.0,\n          0.46955019639509676\n        ],\n        \"semantic_type\": \"\",\n        \"description\": \"\"\n      }\n    },\n    {\n      \"column\": \"cholera_cases_pre\",\n      \"properties\": {\n        \"dtype\": \"number\",\n        \"std\": 70.64523324854957,\n        \"min\": 0.0,\n        \"max\": 200.0,\n        \"num_unique_values\": 5,\n        \"samples\": [\n          0.065,\n          1.0,\n          0.2471444962163839\n        ],\n        \"semantic_type\": \"\",\n        \"description\": \"\"\n      }\n    },\n    {\n      \"column\": \"cholera_cases_post\",\n      \"properties\": {\n        \"dtype\": \"number\",\n        \"std\": 70.63022035062797,\n        \"min\": 0.0,\n        \"max\": 200.0,\n        \"num_unique_values\": 5,\n        \"samples\": [\n          0.205,\n          1.0,\n          0.40471467708651954\n        ],\n        \"semantic_type\": \"\",\n        \"description\": \"\"\n      }\n    }\n  ]\n}"
            }
          },
          "metadata": {},
          "execution_count": 49
        }
      ]
    },
    {
      "cell_type": "code",
      "source": [
        "disease_sums = df[disease_cols].sum()\n",
        "\n",
        "df['Total_Cases'] = df[disease_cols].sum(axis=1)\n",
        "\n",
        "print(\"Total Cases by Disease Category:\")\n",
        "print(disease_sums)\n",
        "\n",
        "# Calculating grand total of all disease cases\n",
        "grand_total = df['Total_Cases'].sum()\n",
        "print(f\"\\nGrand Total of All Disease Cases: {grand_total}\")\n",
        "\n",
        "# Custom labels for better readability\n",
        "custom_labels = {\n",
        "    'diarrhoea_cases_pre': 'Diarrhoea Pre',\n",
        "    'diarrhoea_cases_post': 'Diarrhoea Post',\n",
        "    'typhoid_cases_pre': 'Typhoid Pre',\n",
        "    'typhoid_cases_post': 'Typhoid Post',\n",
        "    'cholera_cases_pre': 'Cholera Pre',\n",
        "    'cholera_cases_post': 'Cholera Post'\n",
        "}\n",
        "\n",
        "plt.figure(figsize=(8, 6))\n",
        "ax = disease_sums.plot(kind='bar', color='#8ECAE6', edgecolor=\"black\", linewidth=1)\n",
        "\n",
        "# Rename x-axis labels using custom labels\n",
        "ax.set_xticklabels([custom_labels[col] for col in disease_sums.index], rotation=45, ha='right')\n",
        "\n",
        "plt.title(\"Total Number of Cases for Each Disease (Pre & Post)\")\n",
        "plt.xlabel(\"Disease\")\n",
        "plt.ylabel(\"Number of Cases\")\n",
        "plt.tight_layout()\n",
        "plt.grid(axis='y', linestyle='--', alpha=0.7)\n",
        "plt.show()\n"
      ],
      "metadata": {
        "colab": {
          "base_uri": "https://localhost:8080/",
          "height": 710
        },
        "id": "ybLatYNFK_Fc",
        "outputId": "e91936d0-c6c9-4b72-fa7c-d87df6cc83c6"
      },
      "execution_count": null,
      "outputs": [
        {
          "output_type": "stream",
          "name": "stdout",
          "text": [
            "Total Cases by Disease Category:\n",
            "diarrhoea_cases_pre     103\n",
            "diarrhoea_cases_post    300\n",
            "typhoid_cases_pre        35\n",
            "typhoid_cases_post       65\n",
            "cholera_cases_pre        13\n",
            "cholera_cases_post       41\n",
            "dtype: int64\n",
            "\n",
            "Grand Total of All Disease Cases: 557\n"
          ]
        },
        {
          "output_type": "display_data",
          "data": {
            "text/plain": [
              "<Figure size 800x600 with 1 Axes>"
            ],
            "image/png": "[encoded data removed]"
          },
          "metadata": {}
        }
      ]
    },
    {
      "cell_type": "markdown",
      "source": [
        "## Chi Square (Post inaccess to clean drinking water)"
      ],
      "metadata": {
        "id": "v1ESQ7nd-5Sa"
      }
    },
    {
      "cell_type": "markdown",
      "source": [
        "### Hypothesis 1: Water Filtration and Waterborne Cases"
      ],
      "metadata": {
        "id": "zDPhmtxU_P9x"
      }
    },
    {
      "cell_type": "code",
      "source": [
        "from scipy.stats import chi2_contingency"
      ],
      "metadata": {
        "id": "LppYe9Z49SIA"
      },
      "execution_count": null,
      "outputs": []
    },
    {
      "cell_type": "code",
      "source": [
        "df['water_treatment_binary'] = np.where(df['water_treatment_method'] == 'No Filtration', 0, 1)"
      ],
      "metadata": {
        "id": "e4-HdgRx98g3"
      },
      "execution_count": null,
      "outputs": []
    },
    {
      "cell_type": "code",
      "source": [
        "# Create Total_Cases as the sum of waterborne disease cases\n",
        "disease_cols = ['diarrhoea_cases_post', 'typhoid_cases_post', 'cholera_cases_post']\n",
        "df['Total_Cases'] = df[disease_cols].sum(axis=1)\n",
        "\n",
        "# Categorize Total_Cases into \"High\" and \"Low\" using the median\n",
        "median_cases = df['Total_Cases'].median()\n",
        "df['case_category'] = np.where(df['Total_Cases'] > median_cases, 'High', 'Low')\n",
        "\n",
        "print(df[['Total_Cases', 'case_category']].head(10))"
      ],
      "metadata": {
        "id": "PJIQHzIH9nYQ",
        "colab": {
          "base_uri": "https://localhost:8080/"
        },
        "outputId": "35e4d8ac-25ec-48f3-92b6-e6cd068c6026"
      },
      "execution_count": null,
      "outputs": [
        {
          "output_type": "stream",
          "name": "stdout",
          "text": [
            "   Total_Cases case_category\n",
            "0            6          High\n",
            "1            0           Low\n",
            "2            3          High\n",
            "3            0           Low\n",
            "4            1           Low\n",
            "5            0           Low\n",
            "6            0           Low\n",
            "7            0           Low\n",
            "8            0           Low\n",
            "9            0           Low\n"
          ]
        }
      ]
    },
    {
      "cell_type": "markdown",
      "source": [
        "### Contingency Table"
      ],
      "metadata": {
        "id": "r9anJRzsP1uM"
      }
    },
    {
      "cell_type": "code",
      "source": [
        "contingency_table = pd.crosstab(df['water_treatment_binary'], df['case_category'])\n",
        "print(\"Contingency Table for Water Treatment Binary vs. Case Category:\")\n",
        "print(contingency_table)"
      ],
      "metadata": {
        "id": "rr87YsoH_BkA",
        "colab": {
          "base_uri": "https://localhost:8080/"
        },
        "outputId": "f82eef45-01f4-4280-bff6-3d6d980ffc31"
      },
      "execution_count": null,
      "outputs": [
        {
          "output_type": "stream",
          "name": "stdout",
          "text": [
            "Contingency Table for Water Treatment Binary vs. Case Category:\n",
            "case_category           High  Low\n",
            "water_treatment_binary           \n",
            "0                         28   54\n",
            "1                         57   61\n"
          ]
        }
      ]
    },
    {
      "cell_type": "code",
      "source": [
        "data = {\n",
        "    'Water Filtration': ['No Filtration', 'No Filtration', 'Filtration', 'Filtration'],\n",
        "    'Disease Category': ['High', 'Low', 'High', 'Low'],\n",
        "    'Count': [28, 54, 57, 61]\n",
        "}\n",
        "\n",
        "df_contingency = pd.DataFrame(data)\n",
        "\n",
        "# Convert to pivot table format for heatmap\n",
        "pivot_table = df_contingency.pivot(index='Water Filtration', columns='Disease Category', values='Count')\n",
        "\n",
        "plt.figure(figsize=(6, 4))\n",
        "sns.heatmap(pivot_table, annot=True, cmap=\"Blues\", fmt=\"d\", linewidths=0.5)\n",
        "plt.title('Heatmap of Contingency Table')\n",
        "plt.xlabel('Disease Category')\n",
        "plt.ylabel('Water Filtration')"
      ],
      "metadata": {
        "colab": {
          "base_uri": "https://localhost:8080/",
          "height": 427
        },
        "id": "BpLUnzLB9J_x",
        "outputId": "36d4c145-c2f7-4955-9644-7cdcee6de824"
      },
      "execution_count": null,
      "outputs": [
        {
          "output_type": "execute_result",
          "data": {
            "text/plain": [
              "Text(45.72222222222221, 0.5, 'Water Filtration')"
            ]
          },
          "metadata": {},
          "execution_count": 55
        },
        {
          "output_type": "display_data",
          "data": {
            "text/plain": [
              "<Figure size 600x400 with 2 Axes>"
            ],
            "image/png": "[encoded data removed]"
          },
          "metadata": {}
        }
      ]
    },
    {
      "cell_type": "code",
      "source": [
        "chi2, p_value, dof, expected = chi2_contingency(contingency_table)\n",
        "print(\"Chi-Square Test Statistic:\", chi2)\n",
        "print(\"Degrees of Freedom:\", dof)\n",
        "print(\"p-value:\", p_value)"
      ],
      "metadata": {
        "id": "vIGn0k5b_FbI",
        "colab": {
          "base_uri": "https://localhost:8080/"
        },
        "outputId": "318799f6-f8bf-4744-ced5-a48754d42bd0"
      },
      "execution_count": null,
      "outputs": [
        {
          "output_type": "stream",
          "name": "stdout",
          "text": [
            "Chi-Square Test Statistic: 3.410553070375301\n",
            "Degrees of Freedom: 1\n",
            "p-value: 0.06478073132176684\n"
          ]
        }
      ]
    },
    {
      "cell_type": "markdown",
      "source": [
        "### Hypothesis 2: Water Storage and Waterborne Cases"
      ],
      "metadata": {
        "id": "NBWlLDFK_XmD"
      }
    },
    {
      "cell_type": "code",
      "source": [
        "safe_storage = ['Closed Drum', 'Metal Container']\n",
        "unsafe_storage = ['Open Bucket']\n",
        "\n",
        "# Binary column: 1 for safe storage, 0 for unsafe storage\n",
        "df['water_storage_binary'] = df['storage_type'].apply(lambda x: 1 if x in safe_storage else 0)\n",
        "\n",
        "print(df['water_storage_binary'].value_counts())\n"
      ],
      "metadata": {
        "colab": {
          "base_uri": "https://localhost:8080/"
        },
        "id": "n8wBPdEzPGiV",
        "outputId": "c3a9e743-6e79-4122-da19-6bdd0fd8641b"
      },
      "execution_count": null,
      "outputs": [
        {
          "output_type": "stream",
          "name": "stdout",
          "text": [
            "water_storage_binary\n",
            "1    122\n",
            "0     78\n",
            "Name: count, dtype: int64\n"
          ]
        }
      ]
    },
    {
      "cell_type": "markdown",
      "source": [
        "### Contingency Table"
      ],
      "metadata": {
        "id": "Y3AeV_2vP7pE"
      }
    },
    {
      "cell_type": "code",
      "source": [
        "data = {\n",
        "    'Water Storage': ['Open Storage', 'Open Storage', 'Closed Storage', 'Closed Storage'],\n",
        "    'Disease Category': ['High', 'Low', 'High', 'Low'],\n",
        "    'Count': [31, 47, 54, 68]\n",
        "}\n",
        "\n",
        "df_contingency = pd.DataFrame(data)\n",
        "\n",
        "pivot_table = df_contingency.pivot(index='Water Storage', columns='Disease Category', values='Count')\n",
        "\n",
        "plt.figure(figsize=(6, 4))\n",
        "sns.heatmap(pivot_table, annot=True, cmap=\"Blues\", fmt=\"d\", linewidths=0.5)\n",
        "\n",
        "plt.title('Heatmap of Contingency Table for Water Storage')\n",
        "plt.xlabel('Disease Category')\n",
        "plt.ylabel('Water Storage')\n",
        "\n",
        "plt.show()"
      ],
      "metadata": {
        "colab": {
          "base_uri": "https://localhost:8080/",
          "height": 410
        },
        "id": "gP2gnGsKBDJ4",
        "outputId": "fa4d9e66-826f-4045-a04a-61592062d328"
      },
      "execution_count": null,
      "outputs": [
        {
          "output_type": "display_data",
          "data": {
            "text/plain": [
              "<Figure size 600x400 with 2 Axes>"
            ],
            "image/png": "[encoded data removed]"
          },
          "metadata": {}
        }
      ]
    },
    {
      "cell_type": "code",
      "source": [
        "contingency_table_storage = pd.crosstab(df['water_storage_binary'], df['case_category'])\n",
        "print(\"Contingency Table for Water Storage Binary vs. Case Category:\")\n",
        "print(contingency_table_storage)\n",
        "\n",
        "# Perform the chi-square test\n",
        "chi2_storage, p_value_storage, dof_storage, expected_storage = chi2_contingency(contingency_table_storage)\n",
        "print(\"Chi-Square Test for Water Storage:\")\n",
        "print(\"Test Statistic:\", chi2_storage)\n",
        "print(\"Degrees of Freedom:\", dof_storage)\n",
        "print(\"p-value:\", p_value_storage)\n"
      ],
      "metadata": {
        "id": "ftD8Gjb8_Mps",
        "colab": {
          "base_uri": "https://localhost:8080/"
        },
        "outputId": "5ad6a9c3-29b9-4ad3-d182-c3c8336b4c77"
      },
      "execution_count": null,
      "outputs": [
        {
          "output_type": "stream",
          "name": "stdout",
          "text": [
            "Contingency Table for Water Storage Binary vs. Case Category:\n",
            "case_category         High  Low\n",
            "water_storage_binary           \n",
            "0                       31   47\n",
            "1                       54   68\n",
            "Chi-Square Test for Water Storage:\n",
            "Test Statistic: 0.23414596388475883\n",
            "Degrees of Freedom: 1\n",
            "p-value: 0.6284665545045056\n"
          ]
        }
      ]
    },
    {
      "cell_type": "code",
      "source": [],
      "metadata": {
        "id": "rYiYIOdFO1fh"
      },
      "execution_count": null,
      "outputs": []
    }
  ]
}